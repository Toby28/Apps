{
  "cells": [
    {
      "cell_type": "markdown",
      "metadata": {
        "id": "view-in-github",
        "colab_type": "text"
      },
      "source": [
        "<a href=\"https://colab.research.google.com/github/Toby28/Apps/blob/main/LLM%2BIntro%2B_%2BGoogle%2BGemini%2BPro.ipynb\" target=\"_parent\"><img src=\"https://colab.research.google.com/assets/colab-badge.svg\" alt=\"Open In Colab\"/></a>"
      ]
    },
    {
      "cell_type": "markdown",
      "id": "b947c78e",
      "metadata": {
        "id": "b947c78e"
      },
      "source": [
        "<font color='green'>\n",
        "Pip install is the command you use to install Python packages with the help of a tool called Pip package manager.\n",
        "<br><br>Installing LangChain package\n",
        "</font>"
      ]
    },
    {
      "cell_type": "code",
      "execution_count": null,
      "id": "8236fd59",
      "metadata": {
        "id": "8236fd59"
      },
      "outputs": [],
      "source": [
        "!pip install langchain"
      ]
    },
    {
      "cell_type": "markdown",
      "id": "e2085724",
      "metadata": {
        "id": "e2085724"
      },
      "source": [
        "## Gemini Pro - Let's use the LLM provided by Google"
      ]
    },
    {
      "cell_type": "code",
      "execution_count": null,
      "id": "eb4f9984",
      "metadata": {
        "id": "eb4f9984"
      },
      "outputs": [],
      "source": [
        "!pip install langchain-google-genai"
      ]
    },
    {
      "cell_type": "markdown",
      "id": "f274e9c5",
      "metadata": {
        "id": "f274e9c5"
      },
      "source": [
        "<font color='green'>\n",
        "Imports the Python built-in module called \"os.\"\n",
        "<br>This module provides a way to interact with the operating system, such as accessing environment variables, working with files and directories, executing shell commands, etc\n",
        "<br><br>\n",
        "The environ attribute is a dictionary-like object that contains the environment variables of the current operating system session\n",
        "<br><br>\n",
        "By accessing os.environ, you can retrieve and manipulate environment variables within your Python program. For example, you can retrieve the value of a specific environment variable using the syntax os.environ['VARIABLE_NAME'], where \"VARIABLE_NAME\" is the name of the environment variable you want to access.\n",
        "<font>"
      ]
    },
    {
      "cell_type": "code",
      "execution_count": null,
      "id": "18ba8425",
      "metadata": {
        "id": "18ba8425"
      },
      "outputs": [],
      "source": [
        "# Please follow the steps mentioned in the documentaion attached in the previous lecture to obtain this API key\n",
        "\n",
        "import os\n",
        "os.environ[\"GOOGLE_API_KEY\"] ="
      ]
    },
    {
      "cell_type": "code",
      "execution_count": null,
      "id": "4188048e",
      "metadata": {
        "id": "4188048e"
      },
      "outputs": [],
      "source": [
        "# We can access Google AI’s gemini and gemini-vision models, as well as other generative models\n",
        "# through ChatGoogleGenerativeAI class in the langchain-google-genai integration package.\n",
        "\n",
        "from langchain_google_genai import ChatGoogleGenerativeAI"
      ]
    },
    {
      "cell_type": "markdown",
      "id": "d2a0f2a8",
      "metadata": {
        "id": "d2a0f2a8"
      },
      "source": [
        "<font color='green'>\n",
        "Here language model is represented by the object \"llm,\" which is being utilized to generate a completion or response based on a specific query.\n",
        "<br><br>\n",
        "The query, stored in the \"our_query\" variable is bieng passed to the model through llm object.\n",
        "<font>"
      ]
    },
    {
      "cell_type": "code",
      "execution_count": null,
      "id": "9548eede",
      "metadata": {
        "id": "9548eede"
      },
      "outputs": [],
      "source": [
        "llm = ChatGoogleGenerativeAI(model=\"gemini-pro\")\n",
        "our_query = \"What is the currency of India?\"\n",
        "result = llm.invoke(our_query)"
      ]
    },
    {
      "cell_type": "code",
      "execution_count": null,
      "id": "259e2628",
      "metadata": {
        "id": "259e2628",
        "outputId": "dccaa9aa-823e-406b-8320-7a8286eccf3a"
      },
      "outputs": [
        {
          "name": "stdout",
          "output_type": "stream",
          "text": [
            "Indian Rupee (INR)\n"
          ]
        }
      ],
      "source": [
        "print(result.content)"
      ]
    }
  ],
  "metadata": {
    "kernelspec": {
      "display_name": "Python 3 (ipykernel)",
      "language": "python",
      "name": "python3"
    },
    "language_info": {
      "codemirror_mode": {
        "name": "ipython",
        "version": 3
      },
      "file_extension": ".py",
      "mimetype": "text/x-python",
      "name": "python",
      "nbconvert_exporter": "python",
      "pygments_lexer": "ipython3",
      "version": "3.10.9"
    },
    "colab": {
      "provenance": [],
      "include_colab_link": true
    }
  },
  "nbformat": 4,
  "nbformat_minor": 5
}