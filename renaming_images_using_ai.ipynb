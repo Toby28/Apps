{
  "cells": [
    {
      "cell_type": "markdown",
      "metadata": {
        "id": "view-in-github",
        "colab_type": "text"
      },
      "source": [
        "<a href=\"https://colab.research.google.com/github/Toby28/Apps/blob/main/renaming_images_using_ai.ipynb\" target=\"_parent\"><img src=\"https://colab.research.google.com/assets/colab-badge.svg\" alt=\"Open In Colab\"/></a>"
      ]
    },
    {
      "cell_type": "markdown",
      "id": "993d968f-2d76-4257-8b79-203efbc54d13",
      "metadata": {
        "id": "993d968f-2d76-4257-8b79-203efbc54d13"
      },
      "source": [
        "# Project: Renaming Images using AI"
      ]
    },
    {
      "cell_type": "markdown",
      "source": [],
      "metadata": {
        "id": "gkOqN44zZiSp"
      },
      "id": "gkOqN44zZiSp"
    },
    {
      "cell_type": "code",
      "execution_count": null,
      "id": "92dbd98b-8845-4808-97e4-73b3a95696e8",
      "metadata": {
        "id": "92dbd98b-8845-4808-97e4-73b3a95696e8"
      },
      "outputs": [],
      "source": [
        "import os\n",
        "from pathlib import Path\n",
        "from PIL import Image\n",
        "\n",
        "# functions vs. generators\n",
        "def get_images(directory):\n",
        "    supported_extesions = ('.png', 'jpg', 'jpeg')\n",
        "    for root, _, filenames in os.walk(directory):\n",
        "        for filename in filenames:\n",
        "            if filename.lower().endswith(supported_extesions):\n",
        "                absolute_path = os.path.join(root, filename)\n",
        "                img = Image.open(absolute_path)\n",
        "                yield img, absolute_path"
      ]
    },
    {
      "cell_type": "code",
      "execution_count": null,
      "id": "5ff3837b-3154-48ec-9031-5a423a5b80ee",
      "metadata": {
        "id": "5ff3837b-3154-48ec-9031-5a423a5b80ee",
        "outputId": "07dfceb5-60d5-4857-9dfd-d73fa12fa757"
      },
      "outputs": [
        {
          "name": "stdout",
          "output_type": "stream",
          "text": [
            "<PIL.PngImagePlugin.PngImageFile image mode=RGBA size=370x582 at 0x185EB36AAD0> images\\open_fridge_full_of_food.png\n",
            "\n",
            "<PIL.JpegImagePlugin.JpegImageFile image mode=RGB size=3748x5624 at 0x185EB538850> images\\person_in_concrete_maze.jpg\n",
            "\n",
            "<PIL.JpegImagePlugin.JpegImageFile image mode=RGB size=695x760 at 0x185EB5385D0> images\\s.jpg\n",
            "\n",
            "<PIL.JpegImagePlugin.JpegImageFile image mode=RGB size=418x927 at 0x185EB538850> images\\sagrada_familia_barcelona_gaudi.jpg\n",
            "\n",
            "<PIL.JpegImagePlugin.JpegImageFile image mode=RGB size=1920x866 at 0x185EB5385D0> images\\salad.jpg\n",
            "\n",
            "<PIL.JpegImagePlugin.JpegImageFile image mode=RGB size=695x760 at 0x185EB538E50> images\\shakshuka_in_a_pan.jpg\n",
            "\n",
            "<PIL.JpegImagePlugin.JpegImageFile image mode=RGB size=4867x3491 at 0x185EB538AD0> images\\snowy_street_scene.jpg\n",
            "\n",
            "<PIL.JpegImagePlugin.JpegImageFile image mode=RGB size=793x412 at 0x185EB4B1B10> images\\toy_poodle_eating_cucumber.jpg\n",
            "\n",
            "<PIL.JpegImagePlugin.JpegImageFile image mode=RGB size=3200x4800 at 0x185EB538AD0> images\\woman_biking_on_bridge.jpg\n",
            "\n",
            "<PIL.JpegImagePlugin.JpegImageFile image mode=RGB size=793x412 at 0x185EB538910> images\\cal\\fda.jpg\n",
            "\n",
            "<PIL.JpegImagePlugin.JpegImageFile image mode=RGB size=3748x5624 at 0x185EB538850> images\\cal\\h2342.jpg\n",
            "\n",
            "<PIL.JpegImagePlugin.JpegImageFile image mode=RGB size=695x760 at 0x185EB538AD0> images\\cal\\s.jpg\n",
            "\n"
          ]
        }
      ],
      "source": [
        "for img, absolute_path in get_images('images'):\n",
        "    print(img, absolute_path)\n",
        "    print()"
      ]
    },
    {
      "cell_type": "markdown",
      "id": "3068fcbc-2742-4e8a-9d22-5c3892de0053",
      "metadata": {
        "id": "3068fcbc-2742-4e8a-9d22-5c3892de0053"
      },
      "source": [
        "## Renaming Images Using Gemini Pro Vision Suggestions"
      ]
    },
    {
      "cell_type": "code",
      "execution_count": null,
      "id": "1e779ced-a181-4ac4-b68a-ac3ca052d548",
      "metadata": {
        "id": "1e779ced-a181-4ac4-b68a-ac3ca052d548"
      },
      "outputs": [],
      "source": [
        "import google.generativeai as genai\n",
        "import os\n",
        "from dotenv import load_dotenv, find_dotenv\n",
        "\n",
        "load_dotenv(find_dotenv(), override=True)\n",
        "genai.configure(api_key=os.environ.get('GOOGLE_API_KEY'))"
      ]
    },
    {
      "cell_type": "code",
      "execution_count": null,
      "id": "ed7eb245-7c66-4b03-89bc-c2ef37b93489",
      "metadata": {
        "scrolled": true,
        "id": "ed7eb245-7c66-4b03-89bc-c2ef37b93489",
        "outputId": "6e6c4414-f6d2-44bf-d826-42f6f4be08aa"
      },
      "outputs": [
        {
          "name": "stdout",
          "output_type": "stream",
          "text": [
            "images\\andrei_sagrada.jpg was renamed to images\\unfinished_basilica_of_the_sagrada_familia.jpg\n",
            "--------------------------------------------------\n",
            "images\\benji.jpg was renamed to images\\toy_poodle_eating_cucumber.jpg\n",
            "--------------------------------------------------\n",
            "images\\food.jpg was renamed to images\\shakshuka_in_a_pan.jpg\n",
            "--------------------------------------------------\n",
            "images\\fridge.png was renamed to images\\open_fridge_full_of_food.png\n",
            "--------------------------------------------------\n",
            "images\\salad.jpg was renamed to images\\salad_bowl_with_greens_and_fruit.jpg\n",
            "--------------------------------------------------\n",
            "images\\cal\\fda.jpg was renamed to images\\cal\\toy_poodle_eating_cucumber.jpg\n",
            "--------------------------------------------------\n",
            "images\\cal\\s.jpg was renamed to images\\cal\\shakshuka_in_a_pan.jpg\n",
            "--------------------------------------------------\n"
          ]
        }
      ],
      "source": [
        "model = genai.GenerativeModel('gemini-pro-vision')\n",
        "\n",
        "prompt = '''\n",
        "Analyze this image in detail.\n",
        "Generate a descriptive image filename using only these rules:\n",
        "* Relevant keywords describing the image, separated by underscores.\n",
        "* Lowercase letters only.\n",
        "* No special characters.\n",
        "* Keep it short and accurate.\n",
        "Respond ONLY with the image filename (no extension).\n",
        "\n",
        "Example: child_running_in_the_rain\n",
        "'''\n",
        "\n",
        "my_directory = 'images'\n",
        "for img, absolute_path in get_images(my_directory):\n",
        "    response = model.generate_content([prompt, img])\n",
        "    root, ext = os.path.splitext(absolute_path)\n",
        "\n",
        "    new_filename = '' + response.text.strip() + ext\n",
        "    base_dir = os.path.dirname(absolute_path)\n",
        "    new_filepath = base_dir + '\\\\' + new_filename\n",
        "\n",
        "    os.rename(absolute_path, new_filepath)\n",
        "\n",
        "    print(f'{absolute_path} was renamed to {new_filepath}')\n",
        "    print('-' * 50)\n",
        "\n",
        "\n",
        "\n"
      ]
    },
    {
      "cell_type": "code",
      "execution_count": null,
      "id": "29ebfd57-3e94-4ee4-bb5b-0d92d699292d",
      "metadata": {
        "id": "29ebfd57-3e94-4ee4-bb5b-0d92d699292d"
      },
      "outputs": [],
      "source": []
    },
    {
      "cell_type": "code",
      "execution_count": null,
      "id": "47f7ebb0-cca4-4154-99a5-0572a9b57595",
      "metadata": {
        "id": "47f7ebb0-cca4-4154-99a5-0572a9b57595",
        "outputId": "97661c65-6776-4dc7-d286-8feefe9830d2"
      },
      "outputs": [
        {
          "name": "stdout",
          "output_type": "stream",
          "text": [
            "/home/user/documents/project/image .jpg\n"
          ]
        }
      ],
      "source": [
        "root, ext = os.path.splitext('/home/user/documents/project/image.jpg')\n",
        "print(root, ext)"
      ]
    },
    {
      "cell_type": "code",
      "execution_count": null,
      "id": "c41449d9-82a8-4931-a3b9-470a47214e43",
      "metadata": {
        "id": "c41449d9-82a8-4931-a3b9-470a47214e43",
        "outputId": "91ed6927-5361-4206-c0eb-704626f3901d"
      },
      "outputs": [
        {
          "data": {
            "text/plain": [
              "'/home/user/documents/project'"
            ]
          },
          "execution_count": 7,
          "metadata": {},
          "output_type": "execute_result"
        }
      ],
      "source": [
        "absolute_path = '/home/user/documents/project/image.jpg'\n",
        "base_dir = os.path.dirname(absolute_path)\n",
        "base_dir"
      ]
    },
    {
      "cell_type": "code",
      "execution_count": null,
      "id": "1051671a-6e99-4b75-bc56-693165e7580b",
      "metadata": {
        "id": "1051671a-6e99-4b75-bc56-693165e7580b"
      },
      "outputs": [],
      "source": []
    },
    {
      "cell_type": "markdown",
      "source": [
        "LLM Prompting Principles\n",
        "1. Clarity and specificity\n",
        "2. Details, context, and outcome\n",
        "3. Few-shot prompting\n",
        "4. Step-by-step guidance\n",
        "Gemini\n",
        "5. Give the model time to think\n",
        "6. Simplify complex tasks\n",
        "7. Positive instructions\n",
        "8. Contextual keywords"
      ],
      "metadata": {
        "id": "AwvkDJCFZj6P"
      },
      "id": "AwvkDJCFZj6P"
    }
  ],
  "metadata": {
    "kernelspec": {
      "display_name": "Python 3 (ipykernel)",
      "language": "python",
      "name": "python3"
    },
    "language_info": {
      "codemirror_mode": {
        "name": "ipython",
        "version": 3
      },
      "file_extension": ".py",
      "mimetype": "text/x-python",
      "name": "python",
      "nbconvert_exporter": "python",
      "pygments_lexer": "ipython3",
      "version": "3.11.6"
    },
    "colab": {
      "provenance": [],
      "include_colab_link": true
    }
  },
  "nbformat": 4,
  "nbformat_minor": 5
}